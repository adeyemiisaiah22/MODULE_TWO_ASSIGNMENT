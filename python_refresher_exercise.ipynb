{
 "cells": [
  {
   "cell_type": "markdown",
   "metadata": {
    "vscode": {
     "languageId": "plaintext"
    }
   },
   "source": [
    "# Python Refresher Exercise  \n",
    "\n",
    "This exercise is designed to help you revisit and test your understanding of core Python concepts covered in class. You will work on tasks covering variables, data types, loops, functions, conditionals, file handling and object-oriented programming. These fundamentals are crucial for your success in more advanced topics like data analysis, machine learning, and building applications.  \n",
    "\n",
    "If you find this exercise particularly challenging, it’s a sign that you should revisit the learning materials and class recordings. Use this as an opportunity to strengthen your foundation before moving forward in the course.  \n",
    "\n",
    "Your goal is to demonstrate proficiency in Python basics by solving the provided problems effectively and writing clean, functional code.  \n",
    "\n",
    "## Instructions  \n",
    "\n",
    "- Answer the questions or complete the tasks outlined in **bold** below.  \n",
    "- Use the specific method described if applicable.  \n",
    "- **Important:** Do not run your code in the same cell where the answer is provided. Create a new cell below/above and write your code there.  \n",
    "- Running code in the same cell as the answer will overwrite the provided hints and answers. Ensure you follow this structure to retain all information.  \n",
    "\n",
    "Good luck!  \n"
   ]
  },
  {
   "cell_type": "markdown",
   "metadata": {},
   "source": [
    "**1. Task:** What is 7 to the power of 4?"
   ]
  },
  {
   "cell_type": "code",
   "execution_count": null,
   "metadata": {},
   "outputs": [
    {
     "data": {
      "text/plain": [
       "2401"
      ]
     },
     "execution_count": 1,
     "metadata": {},
     "output_type": "execute_result"
    }
   ],
   "source": []
  },
  {
   "cell_type": "code",
   "execution_count": null,
   "metadata": {},
   "outputs": [],
   "source": [
    "print(7**4)"
   ]
  },
  {
   "cell_type": "markdown",
   "metadata": {},
   "source": [
    "**2.Task** Split this string:\n",
    "\n",
    "    s = \"Hi there Daveworld!\"\n",
    "    \n",
    "**into a list.**"
   ]
  },
  {
   "cell_type": "code",
   "execution_count": null,
   "metadata": {},
   "outputs": [
    {
     "data": {
      "text/plain": [
       "['Hi', 'there', 'Daveworld!']"
      ]
     },
     "execution_count": 2,
     "metadata": {},
     "output_type": "execute_result"
    }
   ],
   "source": [
    "s = 'Hi there Daveworld!'"
   ]
  },
  {
   "cell_type": "code",
   "execution_count": null,
   "metadata": {},
   "outputs": [],
   "source": [
    "s = \"Hi there Daveworld!\"\n",
    "result = s.split()\n",
    "print(result)"
   ]
  },
  {
   "cell_type": "markdown",
   "metadata": {},
   "source": [
    "**3.Task** Given this nested list, use indexing to grab the word \"hello\""
   ]
  },
  {
   "cell_type": "code",
   "execution_count": 3,
   "metadata": {},
   "outputs": [],
   "source": [
    "lst = [1,2,[3,4],[5,[100,200,['hello']],23,11],1,7]"
   ]
  },
  {
   "cell_type": "code",
   "execution_count": null,
   "metadata": {},
   "outputs": [
    {
     "data": {
      "text/plain": [
       "'hello'"
      ]
     },
     "execution_count": 4,
     "metadata": {},
     "output_type": "execute_result"
    }
   ],
   "source": []
  },
  {
   "cell_type": "code",
   "execution_count": null,
   "metadata": {},
   "outputs": [],
   "source": [
    "print(lst[3][1][2][0])"
   ]
  },
  {
   "cell_type": "markdown",
   "metadata": {},
   "source": [
    "**4. Task** Given this nest dictionary grab the word \"hello\". Be prepared, this will be annoying/tricky try your best!"
   ]
  },
  {
   "cell_type": "code",
   "execution_count": 5,
   "metadata": {},
   "outputs": [],
   "source": [
    "d = {'k1':[1,2,3,{'tricky':['oh','man','inception',{'target':[1,2,3,'hello']}]}]}"
   ]
  },
  {
   "cell_type": "code",
   "execution_count": null,
   "metadata": {},
   "outputs": [
    {
     "data": {
      "text/plain": [
       "'hello'"
      ]
     },
     "execution_count": 6,
     "metadata": {},
     "output_type": "execute_result"
    }
   ],
   "source": []
  },
  {
   "cell_type": "code",
   "execution_count": null,
   "metadata": {},
   "outputs": [],
   "source": [
    "print(d['k1'][3]['tricky'][3]['target'][3])"
   ]
  },
  {
   "cell_type": "markdown",
   "metadata": {},
   "source": [
    "**5. Task** What is the main difference between a tuple and a list?"
   ]
  },
  {
   "cell_type": "code",
   "execution_count": null,
   "metadata": {},
   "outputs": [],
   "source": [
    "1. Mutability:\n",
    "Tuple: Immutable — Once a tuple is created, its elements cannot be modified (e.g., you cannot add, remove, or change elements).\n",
    "List: Mutable — You can modify a list after creation by adding, removing, or changing elements.\n",
    "2. Syntax:\n",
    "Tuple: Defined using parentheses () or no brackets (in some contexts)\n",
    "List: Defined using square brackets []\n",
    "3. Performance:\n",
    "Tuple: Generally faster than lists for iteration because they are immutable.\n",
    "List: Slower due to the overhead of mutability.\n",
    "4. Usage:\n",
    "Tuple: Preferred when the data is constant and should not change, such as coordinates, settings, or keys in dictionaries.\n",
    "List: Used for data that is dynamic and may need modification, such as collections or datasets.\n",
    "5. Methods:\n",
    "Tuple: Limited methods (e.g., count, index) because of immutability.\n",
    "List: Rich set of methods (e.g., append, extend, remove, pop, sort, reverse, etc.)."
   ]
  },
  {
   "cell_type": "markdown",
   "metadata": {},
   "source": [
    "**6. Task** Create a function that grabs the email website domain from a string in the form:\n",
    "\n",
    "    user@domain.com\n",
    "    \n",
    "**So for example, passing \"user@domain.com\" would return: domain.com**"
   ]
  },
  {
   "cell_type": "code",
   "execution_count": null,
   "metadata": {},
   "outputs": [],
   "source": [
    "email = \"adeyemii22@email.com\"\n",
    "email = \"adeyemii22@email.com\"\n",
    "print(email.split(\"@\")[1])\n",
    "# email.com\n"
   ]
  },
  {
   "cell_type": "code",
   "execution_count": null,
   "metadata": {},
   "outputs": [
    {
     "data": {
      "text/plain": [
       "'domain.com'"
      ]
     },
     "execution_count": 8,
     "metadata": {},
     "output_type": "execute_result"
    }
   ],
   "source": [
    "# use the following code to test your implementation\n",
    "domainGet('user@domain.com')"
   ]
  },
  {
   "cell_type": "markdown",
   "metadata": {},
   "source": [
    "**7.Task** Create a basic function that returns True if the word 'appliso' is contained in the input string. Don't worry about edge cases like a punctuation being attached to the word 'appliso', but do account for capitalization.\n",
    "\n",
    "    string = \"Appliso is a tech company aiming to change the world!\""
   ]
  },
  {
   "cell_type": "code",
   "execution_count": null,
   "metadata": {},
   "outputs": [],
   "source": [
    "def contains_appliso(input_string):\n",
    "    return 'appliso' in input_string.lower()\n",
    "string = \"Appliso is a tech company aiming to change the world!\"\n",
    "result = contains_appliso(string)\n",
    "print(result)"
   ]
  },
  {
   "cell_type": "code",
   "execution_count": null,
   "metadata": {},
   "outputs": [
    {
     "data": {
      "text/plain": [
       "True"
      ]
     },
     "execution_count": 11,
     "metadata": {},
     "output_type": "execute_result"
    }
   ],
   "source": [
    "# Use the following code to test your implementation\n",
    "findAppliso('Appliso is a tech company aiming to change the world!?')"
   ]
  },
  {
   "cell_type": "markdown",
   "metadata": {},
   "source": [
    "**8. Task** Create a function that counts the number of times the word \"dog\" occurs in a string. Again ignore edge cases."
   ]
  },
  {
   "cell_type": "code",
   "execution_count": null,
   "metadata": {},
   "outputs": [],
   "source": [
    "def count_dog(s):\n",
    "    return s.lower().count(\"dog\")\n",
    "s = ('This dog runs faster than the other dog dude!')\n",
    "result = count_dog(s)\n",
    "print(result)"
   ]
  },
  {
   "cell_type": "code",
   "execution_count": null,
   "metadata": {},
   "outputs": [
    {
     "data": {
      "text/plain": [
       "2"
      ]
     },
     "execution_count": 13,
     "metadata": {},
     "output_type": "execute_result"
    }
   ],
   "source": [
    "# Use the following code to test your implementation\n",
    "countDog('This dog runs faster than the other dog dude!')"
   ]
  },
  {
   "cell_type": "markdown",
   "metadata": {},
   "source": [
    "**9. Task:** Create a class called Person with attributes name and age. Add a method called introduce that prints, \"Hi, I am [name] and I am [age] years old.\" Instantiate an object and call the introduce method."
   ]
  },
  {
   "cell_type": "code",
   "execution_count": null,
   "metadata": {},
   "outputs": [],
   "source": [
    "class Person:\n",
    "    def __init__(self, name, age):\n",
    "        self.name = name\n",
    "        self.age = age\n",
    "    \n",
    "    def introduce(self):\n",
    "        print(f\"Hi, I am {self.name} and I am {self.age} years old.\")\n",
    "\n",
    "john = Person(name=\"John\", age=25)\n",
    "john.introduce()\n"
   ]
  },
  {
   "cell_type": "code",
   "execution_count": null,
   "metadata": {},
   "outputs": [
    {
     "name": "stdout",
     "output_type": "stream",
     "text": [
      "Hi, I am John and I am 25 years old.\n"
     ]
    }
   ],
   "source": []
  },
  {
   "cell_type": "markdown",
   "metadata": {},
   "source": [
    "**10.Task:** Write a Python program to create a text file named sample.txt, write \"Hello, Python!\" to it, and then read the content."
   ]
  },
  {
   "cell_type": "code",
   "execution_count": null,
   "metadata": {},
   "outputs": [
    {
     "name": "stdout",
     "output_type": "stream",
     "text": [
      "Hello, Python!\n"
     ]
    }
   ],
   "source": []
  },
  {
   "cell_type": "code",
   "execution_count": null,
   "metadata": {},
   "outputs": [],
   "source": [
    "with open(\"sample.txt\", \"w\") as file:\n",
    "    file.write(\"Hello, Python!\")\n",
    "with open(\"sample.txt\", \"r\") as file:\n",
    "    content = file.read()\n",
    "print(content)"
   ]
  },
  {
   "cell_type": "markdown",
   "metadata": {},
   "source": [
    "**11. Task:** Use a list comprehension to create a list of squares for all numbers from 1 to 10.\n",
    "\n"
   ]
  },
  {
   "cell_type": "code",
   "execution_count": null,
   "metadata": {},
   "outputs": [
    {
     "name": "stdout",
     "output_type": "stream",
     "text": [
      "[1, 4, 9, 16, 25, 36, 49, 64, 81, 100]\n"
     ]
    }
   ],
   "source": [
    "squares = [x**2 for x in range(1, 11)]\n",
    "print(squares)\n",
    "\n"
   ]
  },
  {
   "cell_type": "markdown",
   "metadata": {},
   "source": [
    "**12. Task:** Import the math library and use it to calculate the square root of 16.\n",
    "\n"
   ]
  },
  {
   "cell_type": "code",
   "execution_count": null,
   "metadata": {},
   "outputs": [
    {
     "name": "stdout",
     "output_type": "stream",
     "text": [
      "The square root of 16 is 4.0.\n"
     ]
    }
   ],
   "source": []
  },
  {
   "cell_type": "code",
   "execution_count": null,
   "metadata": {},
   "outputs": [],
   "source": [
    "import math\n",
    "result = math.sqrt(16)\n",
    "print(result)"
   ]
  },
  {
   "cell_type": "markdown",
   "metadata": {},
   "source": [
    "**13. Task:** Write a Python program that performs the following:  \n",
    "1. Accepts two numbers from the user.  \n",
    "2. Tries to divide the first number by the second.  \n",
    "3. Handles `ZeroDivisionError` if the second number is zero.  \n",
    "4. Handles `ValueError` if the input is not a number.  \n",
    "5. Prints a message when all operations are complete, whether an exception occurred or not.  \n"
   ]
  },
  {
   "cell_type": "code",
   "execution_count": null,
   "metadata": {},
   "outputs": [
    {
     "name": "stdout",
     "output_type": "stream",
     "text": [
      "Error: Invalid input! Please enter a number.\n",
      "Operation completed.\n"
     ]
    }
   ],
   "source": [
    "import streamlit as st\n",
    "import pandas as pd\n",
    "if \"students\" not in st.session_state:\n",
    "    st.session_state.students = []\n",
    "st.title(\"Student Score Tracker\")\n",
    "st.header(\"Add Student\")\n",
    "name = st.text_input(\"Enter student name:\")\n",
    "score = st.number_input(\"Enter student score:\", min_value=0, max_value=100, step=1)\n",
    "\n",
    "if st.button(\"Add Student\"):\n",
    "    if name and score is not None:\n",
    "        # Append new student data to session state\n",
    "        st.session_state.students.append({\"Name\": name, \"Score\": score})\n",
    "        st.success(f\"Added {name} with a score of {score}.\")\n",
    "    else:\n",
    "        st.error(\"Please enter both a name and a score.\")\n",
    "\n",
    "# Convert data to a DataFrame for display\n",
    "df = pd.DataFrame(st.session_state.students)\n",
    "\n",
    "# Display student data\n",
    "st.header(\"Student Data\")\n",
    "if not df.empty:\n",
    "    st.dataframe(df)\n",
    "else:\n",
    "    st.write(\"No student data available.\")\n",
    "\n",
    "# Filter section\n",
    "st.header(\"Filter Students by Minimum Score\")\n",
    "min_score = st.slider(\"Minimum score:\", min_value=0, max_value=100, value=0)\n",
    "\n",
    "# Filtered data\n",
    "if not df.empty:\n",
    "    filtered_df = df[df[\"Score\"] >= min_score]\n",
    "    st.subheader(\"Filtered Student Data\")\n",
    "    st.dataframe(filtered_df)\n",
    "else:\n",
    "    st.write(\"No student data available to filter.\")\n"
   ]
  },
  {
   "cell_type": "code",
   "execution_count": null,
   "metadata": {},
   "outputs": [],
   "source": [
    "\n",
    " # Attempt to divide the first number by the second\n",
    "num1 = 16\n",
    "num2 = 4 \n",
    "result = num1 / num2\n",
    "print(f\"The result of dividing {num1} by {num2} is {result}\")\n",
    "\n",
    "# Handle division by zero\n",
    "num1 = 16\n",
    "num2 = 0\n",
    "\n",
    "def safe_division(num1, num2):\n",
    "    try:\n",
    "        result = num1 / num2\n",
    "        return result\n",
    "    except ZeroDivisionError:\n",
    "        return \"Error: Division by zero is not allowed\"\n",
    "print(safe_division(16, 0))\n",
    "#Handles `ValueError`\n",
    "num1 = \"Sixteen\"\n",
    "num2 = \"Two\"\n",
    "print(\"Error: Please enter valid numeric values.\")\n",
    "#Prints a message when all operations are complete\n",
    "try:\n",
    "    num1 = 16\n",
    "    num2 = 4\n",
    "    num1 = float(num1)\n",
    "    num2 = float(num2)\n",
    "    result = num1 / num2\n",
    "    print(f\"The result of dividing {num1} by {num2} is {result}\")\n",
    "except ZeroDivisionError:\n",
    "    print(\"Error: Division by zero is not allowed.\")\n",
    "except ValueError:\n",
    "    print(\"Error: Please enter valid numeric values.\")\n",
    "finally:\n",
    "    print(\"Operation complete\")"
   ]
  },
  {
   "cell_type": "markdown",
   "metadata": {},
   "source": [
    "**14 Task:** Use lambda expressions and the filter() function to filter out words from a list that don't start with the letter 's'. For example:\n",
    "\n",
    "    seq = ['soup','dog','salad','cat','great']\n",
    "\n",
    "**should be filtered down to:**\n",
    "\n",
    "    ['soup','salad']"
   ]
  },
  {
   "cell_type": "code",
   "execution_count": 22,
   "metadata": {},
   "outputs": [],
   "source": [
    "seq = ['soup','dog','salad','cat','great']"
   ]
  },
  {
   "cell_type": "code",
   "execution_count": null,
   "metadata": {},
   "outputs": [
    {
     "data": {
      "text/plain": [
       "['soup', 'salad']"
      ]
     },
     "execution_count": 23,
     "metadata": {},
     "output_type": "execute_result"
    }
   ],
   "source": [
    "seq = ['soup', 'dog', 'salad', 'cat', 'great']\n",
    "filtered_words = list(filter(lambda word: word.startswith('s'), seq))\n",
    "print(filtered_words)"
   ]
  },
  {
   "cell_type": "markdown",
   "metadata": {},
   "source": [
    "### Final Problem\n",
    "\n",
    "**15 Task:** You are given a list of students' scores and a cut-off mark. Write a Python program to determine:  \n",
    "1. The number of students who passed the cut-off mark.  \n",
    "2. The number of students who did not pass the cut-off mark.  \n",
    "3. Print the percentage of students who passed and failed.  \n",
    "\n",
    "**Details:**  \n",
    "- You will be provided a list of scores (e.g., `[45, 78, 88, 56, 90, 34, 65, 77]`).  \n",
    "- The cut-off mark is 50.  \n",
    "\n",
    "Write your program to calculate the above and output the results in a clear format.\n",
    "\n",
    "---\n",
    "\n",
    "### **Expected Output Example:**  \n",
    "For the given scores `[45, 78, 88, 56, 90, 34, 65, 77]` and cut-off mark of 50:  \n",
    "\n",
    "Number of students who passed: 5\n",
    "Number of students who failed: 3\n",
    "Percentage of students who passed: 62.5%\n",
    "Percentage of students who failed: 37.5%\n",
    "\n",
    "### **Hint:**  \n",
    "Use a loop or list comprehension to filter the scores based on the cut-off mark. You can calculate percentages using the formula:  "
   ]
  },
  {
   "cell_type": "code",
   "execution_count": null,
   "metadata": {},
   "outputs": [
    {
     "name": "stdout",
     "output_type": "stream",
     "text": [
      "Number of students who passed: 6\n",
      "Number of students who failed: 2\n",
      "Percentage of students who passed: 75.00%\n",
      "Percentage of students who failed: 25.00%\n"
     ]
    }
   ],
   "source": [
    "# List of student scores\n",
    "scores = [45, 78, 88, 56, 90, 34, 65, 77]\n",
    "\n",
    "# Cut-off mark\n",
    "cut_off = 50\n",
    "\n",
    "\n",
    "\n",
    "# Print the results\n",
    "print(f\"Number of students who passed: {num_passed}\")\n",
    "print(f\"Number of students who failed: {num_failed}\")\n",
    "print(f\"Percentage of students who passed: {percent_passed:.2f}%\")\n",
    "print(f\"Percentage of students who failed: {percent_failed:.2f}%\")"
   ]
  },
  {
   "cell_type": "code",
   "execution_count": null,
   "metadata": {},
   "outputs": [],
   "source": [
    "scores = [45, 78, 88, 56, 90, 34, 65, 77]\n",
    "cut_off = 50\n",
    "passed = list(filter(lambda score: score >= cut_off, scores))\n",
    "failed = list(filter(lambda score: score < cut_off, scores))\n",
    "total_students = len(scores)\n",
    "passed_percentage = (len(passed) / total_students) * 100\n",
    "failed_percentage = (len(failed) / total_students) * 100\n",
    "print(f\"Number of students who passed: {len(passed)}\")\n",
    "print(f\"Number of students who failed: {len(failed)}\")\n",
    "print(f\"Percentage of students who passed: {passed_percentage:.2f}%\")\n",
    "print(f\"Percentage of students who failed: {failed_percentage:.2f}%\")"
   ]
  },
  {
   "cell_type": "markdown",
   "metadata": {},
   "source": [
    "# Great job!"
   ]
  }
 ],
 "metadata": {
  "kernelspec": {
   "display_name": "base",
   "language": "python",
   "name": "python3"
  },
  "language_info": {
   "codemirror_mode": {
    "name": "ipython",
    "version": 3
   },
   "file_extension": ".py",
   "mimetype": "text/x-python",
   "name": "python",
   "nbconvert_exporter": "python",
   "pygments_lexer": "ipython3",
   "version": "3.12.4"
  }
 },
 "nbformat": 4,
 "nbformat_minor": 2
}
